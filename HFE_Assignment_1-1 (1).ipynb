{
 "cells": [
  {
   "cell_type": "code",
   "execution_count": 29,
   "id": "e507c932",
   "metadata": {},
   "outputs": [
    {
     "name": "stdout",
     "output_type": "stream",
     "text": [
      "Reading patient #13\n",
      "- Reading the left arm\n",
      "- Reading the right arm\n",
      "Reading patient #14\n",
      "- Reading the left arm\n",
      "- Reading the right arm\n",
      "Reading patient #15\n",
      "- Reading the left arm\n",
      "- Reading the right arm\n",
      "Reading patient #16\n",
      "- Reading the left arm\n",
      "- Reading the right arm\n",
      "Reading patient #17\n",
      "- Reading the left arm\n",
      "- Reading the right arm\n",
      "Reading patient #18\n",
      "- Reading the left arm\n",
      "- Reading the right arm\n",
      "Reading patient #21\n",
      "- Reading the left arm\n",
      "- Reading the right arm\n",
      "Reading patient #22\n",
      "- Reading the left arm\n",
      "- Reading the right arm\n",
      "Reading patient #23\n",
      "- Reading the left arm\n",
      "- Reading the right arm\n",
      "Reading patient #24\n",
      "- Reading the left arm\n",
      "- Reading the right arm\n",
      "Reading patient #25\n",
      "- Reading the left arm\n",
      "- Reading the right arm\n",
      "Reading patient #26\n",
      "- Reading the left arm\n",
      "- Reading the right arm\n",
      "Reading patient #33\n",
      "- Reading the left arm\n",
      "- Reading the right arm\n",
      "[0.9802031746449258, 0.263623487680594, 1.008568572270634, 1.203580465768169, 3.353000587288676, 23.2365889920335, 0.6606237051963549, 1.5818509450030172, 20.27533167793118, 0.4772653221340346, 1.8642153751405126, 29.510242994619734, 0.9680465400271436]\n",
      "[1.185921313680255, 0.4653617744497083, 40.55134490461614, 0.726605730967917, 1.586284041828581, 1.2405283411245744, 1.1000956663473105, 3.0825489722664585, 1.1224736240251778, 0.7201226926994091, 27.81428206766799, 4.036397511061285, 2.9928409525737765]\n"
     ]
    },
    {
     "data": {
      "image/png": "[encoded data removed]",
      "text/plain": [
       "<Figure size 864x576 with 1 Axes>"
      ]
     },
     "metadata": {
      "needs_background": "light"
     },
     "output_type": "display_data"
    }
   ],
   "source": [
    "# This is a sample Python script.\n",
    "# Press  to search everywhere for classes, files, tool windows, actions, and settings.\n",
    "def read_file():\n",
    "   # Importing appropriate packages (1 point)\n",
    "    import pandas as pd\n",
    "    import numpy as np\n",
    "    import matplotlib.pyplot as plt\n",
    "   # Reading the patients.csv file (1 point)\n",
    "    patient_df = pd.read_csv('patients.csv')\n",
    "    index = patient_df['patient']\n",
    "    M2_lefts = [0 for i in range(len(index))]\n",
    "    M2_rights = [0 for i in range(len(index))]\n",
    "    M2_index = 0\n",
    "    for i in index:\n",
    "        message_a = \"Reading patient #\" + str(i)\n",
    "        print(message_a)\n",
    "        message_b = \"- Reading the left arm\"\n",
    "        print(message_b)\n",
    "       # Concatenating strings to make the appropriate path + filename (1 point)\n",
    "        tmp_left_path = f'/Users/sreyatummala/Desktop/data/{i}/LOG_Left.csv' \n",
    "        left_df = pd.read_csv(tmp_left_path, skiprows=6)\n",
    "       # Extracting appropriate columns (1 point)\n",
    "        left_acc_x = left_df['Accelerometer x']\n",
    "        left_acc_y = left_df['Accelerometer y']\n",
    "        left_acc_z = left_df['Accelerometer z']\n",
    "       # Computing M2 for left arm (1 point)\n",
    "        left_acc_mag = (left_acc_x**2 + left_acc_y**2 + left_acc_z**2)**(1/2) - 9.8\n",
    "        M2_left = mean(left_acc_mag)\n",
    "        M2_lefts[M2_index] = M2_left\n",
    "        message_c = \"- Reading the right arm\"\n",
    "        print(message_c)\n",
    "       # Concatenating strings to make the appropriate path + filename (1 point)\n",
    "        tmp_right_path = f'/Users/sreyatummala/Desktop/data/{i}/LOG_Right.csv' \n",
    "        right_df = pd.read_csv(tmp_right_path, skiprows=6)\n",
    "       # Extracting appropriate columns (1 point)\n",
    "        right_acc_x = right_df['Accelerometer x']\n",
    "        right_acc_y = right_df['Accelerometer y']\n",
    "        right_acc_z = right_df['Accelerometer z']\n",
    "       # Computing M2 for right arm (1 point)\n",
    "        right_acc_mag = (right_acc_x**2 + right_acc_y**2 + right_acc_z**2)**(1/2) - 9.8\n",
    "        M2_right = mean(right_acc_mag)\n",
    "        M2_rights[M2_index] = M2_right\n",
    "        M2_index = M2_index + 1\n",
    "    print(M2_lefts)\n",
    "    print(M2_rights)\n",
    "    barWidth = 0.25\n",
    "    fig = plt.subplots(figsize=(12,8))\n",
    "    br1 = np.arange(len(M2_lefts))\n",
    "    br2 = [x + barWidth for x in br1]\n",
    "    plt.bar(br1,M2_lefts,color='r', \n",
    "width=barWidth,edgecolor='grey',label='left')\n",
    "    plt.bar(br2,M2_rights,color='b', width=barWidth, \n",
    "edgecolor='grey', label='right')\n",
    "    plt.xlabel('Patient',fontweight='bold',fontsize=15)\n",
    "    plt.ylabel('M2 left vs right',fontweight='bold',fontsize=15)\n",
    "    plt.xticks([r + barWidth for r in range(len(M2_lefts))], \n",
    "index)\n",
    "    plt.legend()\n",
    "    plt.show()\n",
    "#Press the green button in the gutter to run the script.\n",
    "#if __name__ == '__main__':\n",
    "read_file()\n",
    "\n"
   ]
  }
 ],
 "metadata": {
  "kernelspec": {
   "display_name": "Python 3 (ipykernel)",
   "language": "python",
   "name": "python3"
  },
  "language_info": {
   "codemirror_mode": {
    "name": "ipython",
    "version": 3
   },
   "file_extension": ".py",
   "mimetype": "text/x-python",
   "name": "python",
   "nbconvert_exporter": "python",
   "pygments_lexer": "ipython3",
   "version": "3.9.7"
  }
 },
 "nbformat": 4,
 "nbformat_minor": 5
}
